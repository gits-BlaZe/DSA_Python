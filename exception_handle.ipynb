{
 "cells": [
  {
   "attachments": {},
   "cell_type": "markdown",
   "metadata": {},
   "source": [
    "------------------------Exception Handling-------------------------"
   ]
  },
  {
   "attachments": {},
   "cell_type": "markdown",
   "metadata": {},
   "source": [
    "Safe Division Calculator: You're building a simple calculator app. One of the most common issues is when a user tries to divide by zero. Write a program that takes two numbers from the user and performs division. Use try-except to handle ZeroDivisionError and display an appropriate message like \"Cannot divide by zero\".\n"
   ]
  },
  {
   "cell_type": "code",
   "execution_count": 4,
   "metadata": {},
   "outputs": [
    {
     "name": "stdout",
     "output_type": "stream",
     "text": [
      "2.0\n"
     ]
    }
   ],
   "source": [
    "a,b=map(int,input(\"Enter two integers to perform division: \").split())\n",
    "try:\n",
    "    print(\"The division is: \",a/b)\n",
    "except ZeroDivisionError:\n",
    "    print(\"Cannot divide by zero\")"
   ]
  },
  {
   "attachments": {},
   "cell_type": "markdown",
   "metadata": {},
   "source": [
    "Robust List Indexing: You’re developing a student report viewer. Users may sometimes enter an invalid index to view a student’s mark. Write a program that accesses an element from a predefined list of marks using an index provided by the user. Use exception handling to catch IndexError and print \"Invalid index entered. Please try again.\""
   ]
  },
  {
   "cell_type": "code",
   "execution_count": 6,
   "metadata": {},
   "outputs": [
    {
     "name": "stdout",
     "output_type": "stream",
     "text": [
      "The marks is:  55\n"
     ]
    }
   ],
   "source": [
    "marks=[40,46,57,55,55,69,78,79,82,82,90,95,99]\n",
    "i=int(input(\"Enter the index of the marks to access: \"))\n",
    "try:\n",
    "    print(\"The marks is: \",marks[i])\n",
    "except IndexError:\n",
    "    print(\"Invalid index entered. Please try again.\")"
   ]
  },
  {
   "attachments": {},
   "cell_type": "markdown",
   "metadata": {},
   "source": [
    "Type-Safe Input for Integer Conversion: You’re building a data entry form. Sometimes users enter text when a number is expected. Write a program that takes user input and converts it to an integer. Handle ValueError using a try-except block and print \"Please enter a valid number.\" if the input is not convertible."
   ]
  },
  {
   "cell_type": "code",
   "execution_count": 9,
   "metadata": {},
   "outputs": [
    {
     "name": "stdout",
     "output_type": "stream",
     "text": [
      "The number conversion was successful.\n"
     ]
    }
   ],
   "source": [
    "try:\n",
    "    n=int(input(\"Enter any number: \"))\n",
    "    print(\"The number conversion was successful.\")\n",
    "except ValueError:\n",
    "    print(\"Please enter a valid number.\")"
   ]
  }
 ],
 "metadata": {
  "kernelspec": {
   "display_name": "Python 3",
   "language": "python",
   "name": "python3"
  },
  "language_info": {
   "codemirror_mode": {
    "name": "ipython",
    "version": 3
   },
   "file_extension": ".py",
   "mimetype": "text/x-python",
   "name": "python",
   "nbconvert_exporter": "python",
   "pygments_lexer": "ipython3",
   "version": "3.12.6"
  },
  "orig_nbformat": 4,
  "vscode": {
   "interpreter": {
    "hash": "f397052cddba1051558e39462731b39890d6b598e6eaa64c7b2fe76130434c0e"
   }
  }
 },
 "nbformat": 4,
 "nbformat_minor": 2
}
