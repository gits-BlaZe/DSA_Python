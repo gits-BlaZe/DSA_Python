{
 "cells": [
  {
   "attachments": {},
   "cell_type": "markdown",
   "metadata": {},
   "source": [
    "------------------------------------- Set and Dictionary------------------------------------------"
   ]
  },
  {
   "attachments": {},
   "cell_type": "markdown",
   "metadata": {},
   "source": [
    "Write a program to create a set and perform the following operations: Add an element, remove an element, check for membership, and clear the set."
   ]
  },
  {
   "cell_type": "code",
   "execution_count": 9,
   "metadata": {},
   "outputs": [
    {
     "name": "stdout",
     "output_type": "stream",
     "text": [
      "False\n"
     ]
    }
   ],
   "source": [
    "s={'1','2','3','4','5'}\n",
    "choice=int(input(\"\"\"Enter your choice of operation:\n",
    "1. Add and element\n",
    "2. Remove an element\n",
    "3. Check for membership \n",
    "4. Clear the set:  \"\"\"))\n",
    "match choice:\n",
    "    case 1:\n",
    "        ele=input(\"Enter an element to add to the set: \")\n",
    "        s.add(ele)\n",
    "        print(\"The updated set is: \",s)\n",
    "    case 2:\n",
    "        ele=input(\"Enter an element to remove from the set: \")\n",
    "        s.remove(ele)\n",
    "        print(\"The updated set is: \",s)\n",
    "    case 3:\n",
    "        ele=input(\"Enter an element to check for its membership in the set: \")\n",
    "        print(ele in s)\n",
    "    case 4:\n",
    "        s.clear()\n",
    "        print(\"The set has been cleared\")\n",
    "    case _:\n",
    "        print(\"Please enter an valid input\")\n",
    "\n"
   ]
  },
  {
   "attachments": {},
   "cell_type": "markdown",
   "metadata": {},
   "source": [
    "Write a program to take two sets of integers and perform the following operations: Union, intersection, difference, and symmetric difference."
   ]
  },
  {
   "cell_type": "code",
   "execution_count": 14,
   "metadata": {},
   "outputs": [
    {
     "name": "stdout",
     "output_type": "stream",
     "text": [
      "Set 1: {1, 2, 3, 4, 5}\n",
      "Set 2: {4, 5, 6, 7, 8}\n",
      "The Union of set 1 and set 2 is:  {1, 2, 3, 4, 5, 6, 7, 8}\n",
      "The intersection of set 1 and set 2 is:  {4, 5}\n",
      "The difference between set 1 and set 2:  {1, 2, 3}\n",
      "The symmetric difference between set 1 and set 2:  {1, 2, 3, 6, 7, 8}\n"
     ]
    }
   ],
   "source": [
    "set1=set(map(int,input(\"Enter the integers for the first set: \").split()))\n",
    "set2=set(map(int,(input(\"Enter the integers for the second set: \").split())))\n",
    "print(f\"Set 1: {set1}\\nSet 2: {set2}\")\n",
    "print(\"The Union of set 1 and set 2 is: \",set1|set2)\n",
    "print(\"The intersection of set 1 and set 2 is: \",set1&set2)\n",
    "print(\"The difference between set 1 and set 2: \",set1-set2)\n",
    "print(\"The symmetric difference between set 1 and set 2: \",(set1|set2)-(set1&set2))"
   ]
  },
  {
   "attachments": {},
   "cell_type": "markdown",
   "metadata": {},
   "source": [
    "Write a program to count the number of unique words in a given sentence using a set."
   ]
  },
  {
   "cell_type": "code",
   "execution_count": 18,
   "metadata": {},
   "outputs": [
    {
     "name": "stdout",
     "output_type": "stream",
     "text": [
      "The number of unique words in the sentence is 3\n"
     ]
    }
   ],
   "source": [
    "sentence=set(input(\"Enter the sentence: \").lower().split())\n",
    "print(\"The number of unique words in the sentence is\",len(sentence))"
   ]
  },
  {
   "attachments": {},
   "cell_type": "markdown",
   "metadata": {},
   "source": [
    "Write a program to create a set of even numbers from 1 to 20 using set comprehension."
   ]
  },
  {
   "cell_type": "code",
   "execution_count": 21,
   "metadata": {},
   "outputs": [
    {
     "name": "stdout",
     "output_type": "stream",
     "text": [
      "{2, 4, 6, 8, 10, 12, 14, 16, 18, 20}\n"
     ]
    }
   ],
   "source": [
    "s={i for i in range(1,21) if i%2==0}\n",
    "print(s)"
   ]
  },
  {
   "cell_type": "markdown",
   "metadata": {},
   "source": [
    "Write a program to create a dictionary with names and ages of 5 people and print the dictionary."
   ]
  },
  {
   "cell_type": "code",
   "execution_count": 1,
   "metadata": {},
   "outputs": [
    {
     "name": "stdout",
     "output_type": "stream",
     "text": [
      "{'a': 1, 'b': 2, 'c': 3, 'e': 5, 'd': 4}\n"
     ]
    }
   ],
   "source": [
    "people={}\n",
    "for i in range(5):\n",
    "    name=((input(\"Enter a name: \")))\n",
    "    age=(int(input(\"Enter the age: \")))\n",
    "    people[name]=age\n",
    "print(people)\n"
   ]
  },
  {
   "attachments": {},
   "cell_type": "markdown",
   "metadata": {},
   "source": [
    "Write a program to search for a key in a dictionary and print its value if found."
   ]
  },
  {
   "cell_type": "code",
   "execution_count": 31,
   "metadata": {},
   "outputs": [
    {
     "name": "stdout",
     "output_type": "stream",
     "text": [
      "The key is not present in the dictionary\n"
     ]
    }
   ],
   "source": [
    "people={'name':'John',\n",
    "        'age':22,\n",
    "        'job':'Teacher',\n",
    "        'gender':'M'\n",
    "}\n",
    "key=input(\"What key to search for? \").lower()\n",
    "try:\n",
    "    print(people[key])\n",
    "except KeyError:\n",
    "    print(\"The key is not present in the dictionary\")"
   ]
  },
  {
   "attachments": {},
   "cell_type": "markdown",
   "metadata": {},
   "source": [
    "Write a program to update a value in a dictionary and remove a key-value pair."
   ]
  },
  {
   "cell_type": "code",
   "execution_count": 33,
   "metadata": {},
   "outputs": [
    {
     "name": "stdout",
     "output_type": "stream",
     "text": [
      "The original dictionary is:  {'name': 'John', 'age': 22, 'job': 'Teacher', 'gender': 'M'}\n",
      "The updated dictionary is:  {'name': 'Pork', 'age': 22, 'job': 'Teacher'}\n"
     ]
    }
   ],
   "source": [
    "people={'name':'John',\n",
    "        'age':22,\n",
    "        'job':'Teacher',\n",
    "        'gender':'M'\n",
    "}\n",
    "print(\"The original dictionary is: \",people)\n",
    "ukey=input(\"Enter the key to update: \").lower()\n",
    "if ukey:\n",
    "    upair=input(f\"Enter the new value to {ukey}: \")\n",
    "    try:\n",
    "        people[ukey]=upair\n",
    "    except KeyError:\n",
    "        print(\"The key doesnt exist\")\n",
    "rkey=input(\"Enter the key to remove: \").lower()\n",
    "if rkey:\n",
    "    try:\n",
    "        del people[rkey]\n",
    "    except KeyError:\n",
    "        print(\"The key doesnt exist\")\n",
    "print(\"The updated dictionary is: \",people)\n"
   ]
  },
  {
   "attachments": {},
   "cell_type": "markdown",
   "metadata": {},
   "source": [
    "Write a program to count the frequency of characters in a user-given string using a dictionary."
   ]
  },
  {
   "cell_type": "code",
   "execution_count": 54,
   "metadata": {},
   "outputs": [
    {
     "name": "stdout",
     "output_type": "stream",
     "text": [
      "The frequency of characters in the string is:  {'n': 3, 'i': 3, 'c': 3, 'e': 3}\n"
     ]
    }
   ],
   "source": [
    "s=input(\"Enter the string: \")\n",
    "freq={}\n",
    "for i in s:\n",
    "    if i not in freq:\n",
    "        freq[i]=1\n",
    "    else:\n",
    "        freq[i]=freq[i]+1\n",
    "print(\"The frequency of characters in the string is: \",freq)"
   ]
  },
  {
   "attachments": {},
   "cell_type": "markdown",
   "metadata": {},
   "source": [
    "Write a program to merge two dictionaries into one."
   ]
  },
  {
   "cell_type": "code",
   "execution_count": 35,
   "metadata": {},
   "outputs": [
    {
     "name": "stdout",
     "output_type": "stream",
     "text": [
      "{'name': 'subi', 'age': '19', 'major': 'CSE', 'college': 'KPRIET', 'subject': 'Python'}\n"
     ]
    }
   ],
   "source": [
    "dict1={'name':'subi',\n",
    "    'age': '19',\n",
    "    'major': 'CSE'\n",
    "}\n",
    "dict2={'college':'KPRIET',\n",
    "    'subject':'Python'\n",
    "}\n",
    "dict3={}\n",
    "for key,value  in dict1.items():\n",
    "    dict3[key]=value\n",
    "for key,value  in dict2.items():\n",
    "    dict3[key]=value\n",
    "print(\"The merged dictionary is: \",dict3)"
   ]
  },
  {
   "attachments": {},
   "cell_type": "markdown",
   "metadata": {},
   "source": [
    "Write a program to create a dictionary with student names and marks, and print names of students who scored more than 80."
   ]
  },
  {
   "cell_type": "code",
   "execution_count": 5,
   "metadata": {},
   "outputs": [
    {
     "name": "stdout",
     "output_type": "stream",
     "text": [
      "Students who scored more than 80:\n",
      "subi \t\n",
      "sid \t\n"
     ]
    }
   ],
   "source": [
    "stu={}\n",
    "while True:\n",
    "    name=input(\"Enter the name or type 'exit' to exit: \")\n",
    "    if name.lower()=='exit':\n",
    "        break\n",
    "    mark=int(input(f\"Enter the marks obtained by {name}: \"))\n",
    "    stu[name]=mark\n",
    "print(\"Students who scored more than 80:\")\n",
    "for i,j in stu.items():\n",
    "    if j>80:\n",
    "        print(i,\"\\t\")\n"
   ]
  }
 ],
 "metadata": {
  "kernelspec": {
   "display_name": "Python 3",
   "language": "python",
   "name": "python3"
  },
  "language_info": {
   "codemirror_mode": {
    "name": "ipython",
    "version": 3
   },
   "file_extension": ".py",
   "mimetype": "text/x-python",
   "name": "python",
   "nbconvert_exporter": "python",
   "pygments_lexer": "ipython3",
   "version": "3.12.6"
  },
  "orig_nbformat": 4,
  "vscode": {
   "interpreter": {
    "hash": "f397052cddba1051558e39462731b39890d6b598e6eaa64c7b2fe76130434c0e"
   }
  }
 },
 "nbformat": 4,
 "nbformat_minor": 2
}
