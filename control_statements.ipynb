{
 "cells": [
  {
   "attachments": {},
   "cell_type": "markdown",
   "metadata": {},
   "source": [
    "---------------CONTROL STATEMENTS------------------ "
   ]
  },
  {
   "attachments": {},
   "cell_type": "markdown",
   "metadata": {},
   "source": [
    "Develop a python program for finding the absolute value of a given number. This is always measured as positive number. This number is the distance of given number from the 0(Zero). The input value may be integer, float or complex number in Python. The absolute value of given number may be integer or float.\n"
   ]
  },
  {
   "cell_type": "code",
   "execution_count": 15,
   "metadata": {},
   "outputs": [
    {
     "name": "stdout",
     "output_type": "stream",
     "text": [
      "The absolute value of the given number is: 85.9127464349732\n"
     ]
    }
   ],
   "source": [
    "n=(input(\"Enter the number: \")).split()\n",
    "try:\n",
    "    n=complex(float(n[0]),float(n[1]))\n",
    "    absvalue=abs(n)\n",
    "except IndexError:\n",
    "    n=float(n[0])\n",
    "    absvalue=abs(n)\n",
    "print(f\"The absolute value of the given number is: {absvalue:.2f}\")"
   ]
  },
  {
   "attachments": {},
   "cell_type": "markdown",
   "metadata": {},
   "source": [
    "Calculate the Total selling price after levying the GST (Goods and Service Tax) as CGST and SGST on sale. CGST (Central Govt. GST), SGST (State Govt. GST) .\n",
    "        Sale amount \t\tCGST Rate \t\tSGST Rate\n",
    "         0-50000\t\t    5%\t\t\t     5%\n",
    "         Above 50000\t\t18%\t\t\t     18%"
   ]
  },
  {
   "cell_type": "code",
   "execution_count": 10,
   "metadata": {},
   "outputs": [
    {
     "name": "stdout",
     "output_type": "stream",
     "text": [
      "Sale Amt\tCGST\t\tSGST\t\tTotal Selling Price\n",
      "\n",
      "60000.0\t\t10800.0\t\t10800.0\t\t81600.0\n"
     ]
    }
   ],
   "source": [
    "amount = float(input(\"Enter the amount of sale: \"))\n",
    "if 0<=amount<=50000:\n",
    "    cgst,sgst=5,5\n",
    "    total=amount + ((cgst)/100)*amount + ((sgst)/100)*amount\n",
    "elif amount>50000:\n",
    "    cgst,sgst=18,18\n",
    "    total=amount + ((cgst)/100)*amount + ((sgst)/100)*amount\n",
    "print(\"Sale Amt\\tCGST\\t\\tSGST\\t\\tTotal Selling Price\\n\")\n",
    "print(f\"{amount:.2f}\\t\\t{((cgst)/100)*amount:.2f}\\t\\t{((sgst)/100)*amount:.2f}\\t\\t{total:.2f}\")"
   ]
  },
  {
   "attachments": {},
   "cell_type": "markdown",
   "metadata": {},
   "source": [
    "Write a Python program to construct the following pattern, using a nested for loop.\n",
    "*\n",
    "* *\n",
    "* * *\n",
    "* * * *\n",
    "* * * * *\n",
    "* * * *\n",
    "* * *\n",
    "* *\n",
    "*\n"
   ]
  },
  {
   "cell_type": "code",
   "execution_count": 6,
   "metadata": {},
   "outputs": [
    {
     "name": "stdout",
     "output_type": "stream",
     "text": [
      "* \n",
      "* * \n",
      "* * * \n",
      "* * * * \n",
      "* * * * * \n",
      "* * * * \n",
      "* * * \n",
      "* * \n",
      "* \n"
     ]
    }
   ],
   "source": [
    "k=5\n",
    "for i in range(k):\n",
    "    for j in range(i+1):\n",
    "        print(\"*\",end=\" \")\n",
    "    print()\n",
    "for i in range(k,1,-1):\n",
    "    for j in range(i-1):\n",
    "        print(\"*\",end=\" \")\n",
    "    print()\n"
   ]
  },
  {
   "attachments": {},
   "cell_type": "markdown",
   "metadata": {},
   "source": [
    "Write a Python program to guess a number between 1 and 9.\n",
    "Note: The User is prompted to enter a guess. If the user guesses wrong, then the prompt appears again until the guess is correct. On a successful guess, the user will get a \"Well guessed!\" message, and the program will exit.\n"
   ]
  },
  {
   "cell_type": "code",
   "execution_count": 14,
   "metadata": {},
   "outputs": [
    {
     "name": "stdout",
     "output_type": "stream",
     "text": [
      "Please try again.\n"
     ]
    }
   ],
   "source": [
    "guessnumber=7\n",
    "guess=int(input(\"Enter the guess number (1 to 9): \"))\n",
    "if guess == guessnumber:\n",
    "    print(\"Well Guessed!\")\n",
    "elif guess != guessnumber:\n",
    "    print(\"Please try again.\")"
   ]
  },
  {
   "attachments": {},
   "cell_type": "markdown",
   "metadata": {},
   "source": [
    "You have two streaming subscriptions and want to find out how much you spend each month and how much you could save if you switch to paying annually. Each subscription has a monthly cost and offers a discounted annual rate.\n",
    "Write a Python program to calculate the total monthly cost for both subscriptions, the total annual cost if you continue paying monthly, and compare this with the yearly rates you would pay if you switch to annual payments. Finally, choose the yearly payment option to see how much you could save.\n",
    "       Test Case:\n",
    "Input:\n",
    "Service 1 = $10/month\n",
    "Service 2 = $12/month\n",
    "Annual Discount for Service 1 = $100\n",
    "Annual Discount for Service 2 = $120\n",
    "\n",
    "Expected Output:\n",
    "Monthly Total: $22.00\n",
    "Total Annual Cost without Discount: $264.00\n",
    "Total Annual Discounted Cost: $220.00\n",
    "Total Savings: $44.00\n"
   ]
  },
  {
   "cell_type": "code",
   "execution_count": 2,
   "metadata": {},
   "outputs": [
    {
     "name": "stdout",
     "output_type": "stream",
     "text": [
      "Monthly Total: $22.0\n",
      "Total Annual Cost without Discount: $264.0\n",
      "Total Annual Discounted Cost: $220.0\n",
      "Total Savings: $44.0\n"
     ]
    }
   ],
   "source": [
    "s1=float(input(\"Enter the monthly subscription rate of service 1: \"))\n",
    "s2=float(input(\"Enter the monthly subscription rate of service 2: \"))\n",
    "d1=float(input(\"Enter the annual discount for service 1\"))\n",
    "d2=float(input(\"Enter the annual discount for service 2\"))\n",
    "montotal=s1+s2\n",
    "totalannual=(s1+s2)*12\n",
    "distotalannual=d1+d2\n",
    "save=totalannual-distotalannual\n",
    "print(f\"Monthly Total: ${montotal:.2f}\\nTotal Annual Cost without Discount: ${totalannual:.2f}\\nTotal Annual Discounted Cost: ${distotalannual:.2f}\\nTotal Savings: ${save:.2f}\")"
   ]
  },
  {
   "attachments": {},
   "cell_type": "markdown",
   "metadata": {},
   "source": [
    "Write a Python program that iterates through integers from 1 to 50. For each multiple of three, print \"Fizz\" instead of the number; for each multiple of five, print \"Buzz\". For numbers that are multiples of both three and five, print \"FizzBuzz\"."
   ]
  },
  {
   "cell_type": "code",
   "execution_count": 3,
   "metadata": {},
   "outputs": [
    {
     "name": "stdout",
     "output_type": "stream",
     "text": [
      "1\n",
      "2\n",
      "Fizz\n",
      "4\n",
      "Buzz\n",
      "Fizz\n",
      "7\n",
      "8\n",
      "Fizz\n",
      "Buzz\n",
      "11\n",
      "Fizz\n",
      "13\n",
      "14\n",
      "FizzBuzz\n",
      "16\n",
      "17\n",
      "Fizz\n",
      "19\n",
      "Buzz\n",
      "Fizz\n",
      "22\n",
      "23\n",
      "Fizz\n",
      "Buzz\n",
      "26\n",
      "Fizz\n",
      "28\n",
      "29\n",
      "FizzBuzz\n",
      "31\n",
      "32\n",
      "Fizz\n",
      "34\n",
      "Buzz\n",
      "Fizz\n",
      "37\n",
      "38\n",
      "Fizz\n",
      "Buzz\n",
      "41\n",
      "Fizz\n",
      "43\n",
      "44\n",
      "FizzBuzz\n",
      "46\n",
      "47\n",
      "Fizz\n",
      "49\n",
      "Buzz\n"
     ]
    }
   ],
   "source": [
    "for i in range(1,51):\n",
    "    if i % 3 == 0 and i % 5 != 0:\n",
    "        print(\"Fizz\")\n",
    "    elif i % 3 != 0 and i % 5 == 0:\n",
    "        print(\"Buzz\")\n",
    "    elif i % 3 == 0 and i % 5 == 0:\n",
    "        print(\"FizzBuzz\")\n",
    "    else:\n",
    "        print(i)"
   ]
  },
  {
   "attachments": {},
   "cell_type": "markdown",
   "metadata": {},
   "source": [
    "Write a Python program that takes two digits, m (row) and n (column) as input and generates a two-dimensional array. The element value in the i-th row and j-th column of the array should be i*j.\n",
    "Note :\n",
    "i = 0,1.., m-1\n",
    "j = 0,1, n-1.\n",
    "Test Data : Rows = 3, Columns = 4\n",
    "Expected Result : [[0, 0, 0, 0], [0, 1, 2, 3], [0, 2, 4, 6]]\n"
   ]
  },
  {
   "cell_type": "code",
   "execution_count": 8,
   "metadata": {},
   "outputs": [
    {
     "name": "stdout",
     "output_type": "stream",
     "text": [
      "[[0, 0, 0, 0], [0, 1, 2, 3], [0, 2, 4, 6]]\n"
     ]
    }
   ],
   "source": [
    "m,n=map(int,input(\"Enter the number of rows and columns: \").split())\n",
    "col=[]\n",
    "for i in range(m):\n",
    "    row=[]\n",
    "    for j in range(n):\n",
    "        row.append(i*j)\n",
    "    col.append(row)    \n",
    "print(col)"
   ]
  },
  {
   "attachments": {},
   "cell_type": "markdown",
   "metadata": {},
   "source": [
    "Write  a Python program for Grade Classification\n",
    "Scenario: A school system classifies grades as follows:\n",
    "A (90 and above)\n",
    "B (70 to 89)\n",
    "C (50 to 69)\n",
    "D (below 50)\n",
    "Question:  What grade will be assigned to a student who scores 85?\n",
    "If the score is 92, what grade will the program output\n"
   ]
  },
  {
   "cell_type": "code",
   "execution_count": 10,
   "metadata": {},
   "outputs": [
    {
     "name": "stdout",
     "output_type": "stream",
     "text": [
      "Your grade is: B\n"
     ]
    }
   ],
   "source": [
    "score=int(input(\"Enter your score: \"))\n",
    "if score>=90:\n",
    "    grade=\"A\"\n",
    "elif score<90 and score>=70:\n",
    "    grade=\"B\"\n",
    "elif score<70 and score>=50:\n",
    "    grade=\"C\"\n",
    "else:\n",
    "    grade=\"D\"\n",
    "print(f\"Your grade is: {grade}\")\n"
   ]
  },
  {
   "attachments": {},
   "cell_type": "markdown",
   "metadata": {},
   "source": [
    "Write a program that prints the multiplication table of a user-entered number up to 10.\n"
   ]
  },
  {
   "cell_type": "code",
   "execution_count": 11,
   "metadata": {},
   "outputs": [
    {
     "name": "stdout",
     "output_type": "stream",
     "text": [
      "7 x 1 = 7\n",
      "\n",
      "7 x 2 = 14\n",
      "\n",
      "7 x 3 = 21\n",
      "\n",
      "7 x 4 = 28\n",
      "\n",
      "7 x 5 = 35\n",
      "\n",
      "7 x 6 = 42\n",
      "\n",
      "7 x 7 = 49\n",
      "\n",
      "7 x 8 = 56\n",
      "\n",
      "7 x 9 = 63\n",
      "\n",
      "7 x 10 = 70\n",
      "\n"
     ]
    }
   ],
   "source": [
    "n=int(input(\"Enter a number for multiplication table: \"))\n",
    "for i in range(1,11):\n",
    "    print(f\"{n} x {i} = {n*i}\\n\")"
   ]
  },
  {
   "attachments": {},
   "cell_type": "markdown",
   "metadata": {},
   "source": [
    "Write a Python program to check the validity of passwords input by users.\n",
    "Validation :\n",
    "At least 1 letter between [a-z] and 1 letter between [A-Z].\n",
    "At least 1 number between [0-9].\n",
    "At least 1 character from [$#@].\n",
    "Minimum length 6 characters.\n",
    "Maximum length 16 characters.\n"
   ]
  },
  {
   "cell_type": "code",
   "execution_count": 13,
   "metadata": {},
   "outputs": [
    {
     "name": "stdout",
     "output_type": "stream",
     "text": [
      "Your password is valid!\n"
     ]
    }
   ],
   "source": [
    "password=input(\"Enter your password for validation: \")\n",
    "lower = upper = num = special = length = False\n",
    "for i in password:\n",
    "    if i.isalpha() and i.islower():\n",
    "        lower = True\n",
    "    if i.isalpha() and i.isupper():\n",
    "        upper = True\n",
    "    if i.isnumeric():\n",
    "        num = True\n",
    "    if i == \"$\" or i == \"#\" or i == \"@\":\n",
    "        special = True\n",
    "if 6<=len(password)<=16:\n",
    "    length = True\n",
    "\n",
    "if lower == False:\n",
    "    print(\"The password should contain atleast 1 letter between [a-z]\")\n",
    "if upper == False:\n",
    "    print(\"The password should contain atleast 1 letter between [A-Z]\")\n",
    "if num == False:\n",
    "    print(\"The password should contain atleast 1 number between [0-9]\")\n",
    "if special == False:\n",
    "    print(\"The password should contain atleast one of (#,$,@) symbol\")\n",
    "if length == False:\n",
    "    print(\"The maximum length is 16 and minimum length is 6 characters\")\n",
    "if lower==upper==num==special==length==True:\n",
    "    print(\"Your password is valid!\")\n"
   ]
  }
 ],
 "metadata": {
  "kernelspec": {
   "display_name": "Python 3",
   "language": "python",
   "name": "python3"
  },
  "language_info": {
   "codemirror_mode": {
    "name": "ipython",
    "version": 3
   },
   "file_extension": ".py",
   "mimetype": "text/x-python",
   "name": "python",
   "nbconvert_exporter": "python",
   "pygments_lexer": "ipython3",
   "version": "3.12.6"
  },
  "orig_nbformat": 4,
  "vscode": {
   "interpreter": {
    "hash": "f397052cddba1051558e39462731b39890d6b598e6eaa64c7b2fe76130434c0e"
   }
  }
 },
 "nbformat": 4,
 "nbformat_minor": 2
}
