{
 "cells": [
  {
   "attachments": {},
   "cell_type": "markdown",
   "metadata": {},
   "source": [
    "---------BASIC PROGRAMS---------- "
   ]
  },
  {
   "attachments": {},
   "cell_type": "markdown",
   "metadata": {},
   "source": [
    "Write a program to calculate the area of a triangle using Heron’s formula.\n",
    "(Hint: Heron’s formula is given as: area = sqrt(S*(S–a)*(S–b)*(S–c)))\n"
   ]
  },
  {
   "cell_type": "code",
   "execution_count": 2,
   "metadata": {},
   "outputs": [
    {
     "name": "stdout",
     "output_type": "stream",
     "text": [
      "The area of the triangle is: 9.92\n"
     ]
    }
   ],
   "source": [
    "import math\n",
    "a,b,c = map(int,input(\"Enter the 3 sides of the triangle: \").split())\n",
    "s = (a+b+c)/2\n",
    "area = math.sqrt(s*(s-a)*(s-b)*(s-c))\n",
    "print(f\"The area of the triangle is: {area:.2f}\")"
   ]
  },
  {
   "attachments": {},
   "cell_type": "markdown",
   "metadata": {},
   "source": [
    "Write a program to calculate the distance between two points."
   ]
  },
  {
   "cell_type": "code",
   "execution_count": null,
   "metadata": {},
   "outputs": [],
   "source": [
    "import math\n",
    "x1,y1 = map(int,input(\"Enter the coordinates (x,y) for the first point: \").split())\n",
    "x2,y2 = map(int,input(\"Enter the coordinates (x,y) for the second point: \").split())\n",
    "d=math.sqrt(((x2-x1)**2) + ((y2-y1)**2))\n",
    "print(f\"The distance between the two points is: {d:.3f}\")\n"
   ]
  },
  {
   "attachments": {},
   "cell_type": "markdown",
   "metadata": {},
   "source": [
    "Write a program to calculate the area of a circle, rectangle, triangle, and square.\n"
   ]
  },
  {
   "cell_type": "code",
   "execution_count": null,
   "metadata": {},
   "outputs": [],
   "source": [
    "import math\n",
    "choice=int(input(\"\"\" Enter your choice number for the following functions: \n",
    "1. Area of Circle\n",
    "2. Area of Triangle\n",
    "3. Area of Rectangle\n",
    "4. Area of Square: \\n\"\"\"))\n",
    "match choice:\n",
    "    case 1:\n",
    "        r=float(input(\"Enter the radius of the circle: \"))\n",
    "        area=(math.pi*r**2)\n",
    "        print(f\"The area of the circle is: {area:.2f}\")\n",
    "    case 2:\n",
    "        a,b,c=map(float,input(\"Enter the three sides of the triangle: \").split()) \n",
    "        if (a+b>c and b+c>a and c+a>b):\n",
    "            s=(a+b+c)/2\n",
    "            area=math.sqrt(s*(s-a)*(s-b)*(s-c))\n",
    "            print(f\"The area of Triangle is: {area:.2f}\")\n",
    "        else:\n",
    "            print(\"Enter valid values for the sides of triangle.\")\n",
    "    case 3:\n",
    "        a,b=map(float, input(\"Enter the two sides of the rectangle: \").split())\n",
    "        area=a*b\n",
    "        print(f\"The area of the rectangle is: {area:.2f}\")\n",
    "    case 4:\n",
    "        a=float(input(\"Enter the side of the square: \"))\n",
    "        area=a**2\n",
    "        print(f\"The area of the square is: {area:.2f}\")\n",
    "    case _:\n",
    "        print(\"Please enter a valid choice number\")\n"
   ]
  },
  {
   "attachments": {},
   "cell_type": "markdown",
   "metadata": {},
   "source": [
    "Write a program to print the digit at one’s place of a number."
   ]
  },
  {
   "cell_type": "code",
   "execution_count": null,
   "metadata": {},
   "outputs": [],
   "source": [
    "n=int(input(\"Enter a number: \"))\n",
    "print(f\"The digit at one's place is : {n%10}\")"
   ]
  },
  {
   "attachments": {},
   "cell_type": "markdown",
   "metadata": {},
   "source": [
    "Write a program to calculate the total amount of money in the piggy bank, given the coins of ₹10, ₹5, ₹2, and ₹1."
   ]
  },
  {
   "cell_type": "code",
   "execution_count": null,
   "metadata": {},
   "outputs": [],
   "source": [
    "r10=int(input(\"Enter the total number of ₹10 in the piggy bank: \"))\n",
    "r5=int(input(\"Enter the total number of ₹5 in the piggy bank: \"))\n",
    "r2=int(input(\"Enter the total number of ₹2 in the piggy bank: \"))\n",
    "r1=int(input(\"Enter the total number of ₹1 in the piggy bank: \"))\n",
    "total=(10 * r10)  + (5 * r5)  + (2 * r2)  + r1\n",
    "print(f\"The total amount in the piggy bank is : {total}\")"
   ]
  },
  {
   "attachments": {},
   "cell_type": "markdown",
   "metadata": {},
   "source": [
    "Write a program to calculate the bill amount for an item given its quantity sold, value, discount, and tax."
   ]
  },
  {
   "cell_type": "code",
   "execution_count": null,
   "metadata": {},
   "outputs": [],
   "source": [
    "q=int(input(\"Enter the number of quantity sold of the item:  \"))\n",
    "v=float(input(\"Enter the value of the item:  \"))\n",
    "d=float(input(\"Enter the discount'%' of the item:  \"))\n",
    "t=float(input(\"Enter the tax'%' of the item:  \"))\n",
    "gross_amt=q*v\n",
    "discounted_amt=((100-d)*gross_amt)/100\n",
    "taxed_amt=((100+t)*discounted_amt)/100\n",
    "print(f\"The amount for the given item after discounts is: {discounted_amt:.2f}\")\n",
    "print(f\"The bill amount for the given item after tax is: {taxed_amt:.2f}\")\n"
   ]
  },
  {
   "attachments": {},
   "cell_type": "markdown",
   "metadata": {},
   "source": [
    "Write a python program to calculate a household's electricity bill.\n",
    "The user should enter the number of units consumed. The charges are as follows:\n",
    "    For the first 100 units: ₹1.50 per unit\n",
    "    For the next 100 units (101–200): ₹2.00 per unit\n",
    "    For units above 200: ₹3.00 per unit\n",
    "\n",
    "A fixed meter charge of ₹50 is added to the bill.\n",
    "Display the total amount to be paid with a proper bill format.\n"
   ]
  },
  {
   "cell_type": "code",
   "execution_count": null,
   "metadata": {},
   "outputs": [],
   "source": [
    "units=int(input(\"Enter the number of units consumed: \"))\n",
    "if units <= 100 and units >= 0:\n",
    "    charge = 1.50*units\n",
    "elif units>100 and units<=200:\n",
    "    charge = 1.50 * 100 + (units-100) * 2.00\n",
    "elif units>200:\n",
    "    charge = 1.50 * 100 + 2 * 100 + 3 * (units - 200)    \n",
    "else:\n",
    "    print(\"Please enter a valid input.\")\n",
    "fixed_charge=50\n",
    "print(\"Household electricity bill\\n\")\n",
    "print(\"Units Consumed \\t Fixed Meter Charge \\t Total Bill Ammount\\n\")\n",
    "print(units,\"\\t\\t\",fixed_charge,\"\\t\\t\\t\",charge+fixed_charge)\n"
   ]
  },
  {
   "attachments": {},
   "cell_type": "markdown",
   "metadata": {},
   "source": [
    "Develop a Python program that calculates an employee’s net salary. Accept input for:\n",
    "Employee name and ID\n",
    "Number of hours worked\n",
    "Hourly wage\n",
    "Calculate the gross salary and deduct 10% as tax. Display a proper salary slip with all details.\n"
   ]
  },
  {
   "cell_type": "code",
   "execution_count": null,
   "metadata": {},
   "outputs": [],
   "source": [
    "name=input(\"Enter the employee name: \")\n",
    "id=int(input(\"Enter the employee id: \"))\n",
    "hours=int(input(\"Enter the number of hours work: \"))\n",
    "wage=float(input(\"Enter the hourly wage: \"))\n",
    "gross=hours*wage\n",
    "final_salary=0.9*gross\n",
    "print(\"Employee's Net Salary\\n\")\n",
    "print(f\" Employee ID: {id} \\n Empolyee Name: {name} \\n Hourly Wage: {wage} \\n Hours Worked: {hours} \\n Tax(10%): {0.1*gross} \\n Final Salary: {final_salary} \\n\")\n"
   ]
  },
  {
   "cell_type": "markdown",
   "metadata": {},
   "source": [
    "Write a Python program to calculate the total cost of movie tickets. Accept:\n",
    "Number of tickets\n",
    "Ticket category (Silver: ₹120, Gold: ₹180, Platinum: ₹250)\n",
    "Add 18% GST to the ticket cost. Display a formatted bill.\n"
   ]
  },
  {
   "cell_type": "code",
   "execution_count": null,
   "metadata": {},
   "outputs": [],
   "source": [
    "tickets=int(input(\"Enter the total number of movie tickets: \"))\n",
    "catagory=input(\"Enter the ticket catagory (Silver, Gold, Platinum): \").lower()\n",
    "if catagory==\"silver\":\n",
    "    cost=tickets*120\n",
    "elif catagory==\"gold\":\n",
    "    cost=tickets*180\n",
    "elif catagory==\"platinum\":\n",
    "    cost=tickets*250\n",
    "else:\n",
    "    print(\"Please enter a valid catagory\")\n",
    "gst=0.18*cost\n",
    "final_bill=gst+cost\n",
    "print(\"\\t\\t\\tFinal Bill \\n\")\n",
    "print(\"Number of tickets\\tCatagory\\tGST AMT(18%)\\tFinal Bill\\n\")\n",
    "print(f\"{tickets}\\t\\t\\t{catagory.upper()}\\t\\t{gst}\\t\\t{final_bill}\")\n"
   ]
  },
  {
   "attachments": {},
   "cell_type": "markdown",
   "metadata": {},
   "source": [
    "Develop a Python program that estimates travel fare based on distance and transport mode. \n",
    "Input:\n",
    "Distance (in km)\n",
    "Mode (Bus: ₹5/km, Train: ₹2/km, Cab: ₹10/km)\n",
    "Calculate and display the total fare and estimated travel time (assuming constant speeds for each mode).\n"
   ]
  },
  {
   "cell_type": "code",
   "execution_count": null,
   "metadata": {},
   "outputs": [],
   "source": [
    "distance=float(input(\"Enter the distance traveled in kms: \"))\n",
    "mode=input(\"Enter the mode of transportation: (Bus/Train/Cab): \")\n",
    "#assume speeds of modes as Bus = 50Km/h, Train = 120km/h, Cab = 60km/h\n",
    "if mode.lower()==\"bus\":\n",
    "    time=distance/50\n",
    "    totalfare=distance*5\n",
    "elif mode.lower()==\"train\":\n",
    "    time=distance/120\n",
    "    totalfare=distance*2\n",
    "elif mode.lower()==\"cab\":\n",
    "    time=distance/60\n",
    "    totalfare=distance*10\n",
    "else:\n",
    "    print(\"Please enter a valid mode of transportation\")\n",
    "print(\"Total distance  \\tMode\\tTotal time\\tTotal fare\\n\")\n",
    "print(f\"{distance}  \\t\\t{mode.upper()}\\t{time:.2f} Hours\\t{totalfare:.2f}\")\n"
   ]
  }
 ],
 "metadata": {
  "kernelspec": {
   "display_name": "Python 3",
   "language": "python",
   "name": "python3"
  },
  "language_info": {
   "codemirror_mode": {
    "name": "ipython",
    "version": 3
   },
   "file_extension": ".py",
   "mimetype": "text/x-python",
   "name": "python",
   "nbconvert_exporter": "python",
   "pygments_lexer": "ipython3",
   "version": "3.12.6"
  },
  "orig_nbformat": 4,
  "vscode": {
   "interpreter": {
    "hash": "f397052cddba1051558e39462731b39890d6b598e6eaa64c7b2fe76130434c0e"
   }
  }
 },
 "nbformat": 4,
 "nbformat_minor": 2
}
