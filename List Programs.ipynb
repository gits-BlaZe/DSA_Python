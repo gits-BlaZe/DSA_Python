{
 "cells": [
  {
   "cell_type": "markdown",
   "id": "f29e5d65-955f-482a-9c6d-737d0f7537f7",
   "metadata": {},
   "source": [
    "#### Write a Python program to create a list of numbers from 1-50 that are either divisible by 3 or divisible by 6 "
   ]
  },
  {
   "cell_type": "code",
   "execution_count": 3,
   "id": "42986d68-e826-434d-8870-2c58405bf202",
   "metadata": {},
   "outputs": [
    {
     "name": "stdout",
     "output_type": "stream",
     "text": [
      "[3, 6, 9, 12, 15, 18, 21, 24, 27, 30, 33, 36, 39, 42, 45, 48]\n"
     ]
    }
   ],
   "source": [
    "list = []\n",
    "for i in range (1,51):\n",
    "    if i%3==0 or i%6==0:\n",
    "        list.append(i)\n",
    "print(list)        \n"
   ]
  },
  {
   "cell_type": "markdown",
   "id": "a33a3263",
   "metadata": {},
   "source": [
    "#### Write a Python program that reads “n” number of integers from the user and generates a separate list containing even and odd numbers. (Use List Comprehension)"
   ]
  },
  {
   "cell_type": "code",
   "execution_count": 5,
   "id": "b6bcaec3",
   "metadata": {},
   "outputs": [
    {
     "name": "stdout",
     "output_type": "stream",
     "text": [
      "The given list is [4, 6, 7, 8, 9]\n",
      "Odd: [7, 9]\n",
      "Even: [4, 6, 8]\n"
     ]
    }
   ],
   "source": [
    "n=int(input(\"enter number of elements in the list: \"))\n",
    "list=[]\n",
    "for i in range(n):\n",
    "    list.append(int(input()))\n",
    "print(f\"The given list is {list}\")\n",
    "odd=[i for i in list if i%2!=0]\n",
    "even=[i for i in list if i%2==0]\n",
    "print(f\"Odd: {odd}\")\n",
    "print(f\"Even: {even}\")    "
   ]
  },
  {
   "cell_type": "markdown",
   "id": "7d43a502",
   "metadata": {},
   "source": [
    "#### The python program should read the list of 5 numbers, and generate the new list which contains the factorial of each number in the given list. \n",
    "\n",
    "Sample Input\n",
    "\n",
    "[2, 4, 8, 7, 5]\n",
    "\n",
    "Sample Output\n",
    "\n",
    "[2, 24, 40320, 5040, 120]\n"
   ]
  },
  {
   "cell_type": "code",
   "execution_count": 23,
   "id": "6e82db08",
   "metadata": {},
   "outputs": [
    {
     "name": "stdout",
     "output_type": "stream",
     "text": [
      "[2, 4, 8, 7, 5]\n",
      "[2, 24, 40320, 5040, 120]\n"
     ]
    }
   ],
   "source": [
    "def fact(n):\n",
    "    if n==0 or n==1:\n",
    "        return 1\n",
    "    else:\n",
    "        return n*fact(n-1)\n",
    "numbers=[int(x) for x in input().split(\",\")]\n",
    "print(numbers)\n",
    "factlist=[fact(i) for i in numbers]\n",
    "print(factlist)"
   ]
  },
  {
   "cell_type": "markdown",
   "id": "75a00f56",
   "metadata": {},
   "source": [
    "#### Write a python program that reads integers from the user and stores them in a list. Your program should continue reading values until the user enters 0. Then it should display all of the values entered by the user (except for the 0) in ascending order (The list itself to be sorted)."
   ]
  },
  {
   "cell_type": "code",
   "execution_count": 25,
   "id": "720ebc62",
   "metadata": {},
   "outputs": [
    {
     "name": "stdout",
     "output_type": "stream",
     "text": [
      "enter the values of the list\n",
      "The sorted list is [1, 2, 4, 6, 9, 42, 45]\n"
     ]
    }
   ],
   "source": [
    "print(\"enter the values of the list\")\n",
    "num=[]\n",
    "while True:\n",
    "    n=int(input())\n",
    "    if(n==0):\n",
    "        break\n",
    "    else:\n",
    "        num.append(n)\n",
    "num.sort()\n",
    "print(f\"The sorted list is {num}\")        \n"
   ]
  },
  {
   "cell_type": "markdown",
   "id": "2234d270",
   "metadata": {},
   "source": [
    "#### Write a python program that reads the string, encode each character in a string using ascii values and store the ascii value in the list. The program reads the strings from the user, and stores the individual characters ascii value to the list\n",
    "\n",
    "Sample Input\n",
    "\n",
    "Enter the string : Science\n",
    "\n",
    "Sample Output\n",
    "\n",
    "Encode the List - [83, 99, 105, 101, 110, 99, 101]\n",
    "\n",
    "Note: Use ord() function\n"
   ]
  },
  {
   "cell_type": "code",
   "execution_count": 26,
   "id": "6d329995",
   "metadata": {},
   "outputs": [
    {
     "name": "stdout",
     "output_type": "stream",
     "text": [
      "The ascii value of the given string is: [83, 99, 105, 101, 110, 99, 101]\n"
     ]
    }
   ],
   "source": [
    "s=input(\"Enter the string: \")\n",
    "encodedlist=[]\n",
    "for i in s:\n",
    "    encodedlist.append(ord(i))\n",
    "print(f\"The ascii value of the given string is: {encodedlist}\")    \n"
   ]
  },
  {
   "cell_type": "markdown",
   "id": "81d65617",
   "metadata": {},
   "source": [
    "#### Write a python program which reads “n” words from the user, store it in the list and display the length of each word and display the longest word in the list."
   ]
  },
  {
   "cell_type": "code",
   "execution_count": 29,
   "id": "6370d7a6",
   "metadata": {},
   "outputs": [
    {
     "name": "stdout",
     "output_type": "stream",
     "text": [
      "Length of Each word in the list: [3, 4, 8, 6, 30]\n",
      "The longest word in the list is: Pseudopseudohypoparathyroidism\n"
     ]
    }
   ],
   "source": [
    "n=int(input(\"Enter the number of words: \"))\n",
    "words=[]\n",
    "length=[]\n",
    "for i in range(n):\n",
    "    words.append(input(\"Enter the word: \"))\n",
    "    length.append(len(words[i]))\n",
    "j=length.index(max(length))\n",
    "print(f\"Length of Each word in the list: {length}\")\n",
    "print(f\"The longest word in the list is: {words[j]}\")    "
   ]
  },
  {
   "cell_type": "markdown",
   "id": "43116534",
   "metadata": {},
   "source": [
    "#### A program should read “n” positive integers from the user and append it to the list, and if the list contains prime numbers return “True” and number of prime numbers, else “False”. (Use function to find the number is prime or not)"
   ]
  },
  {
   "cell_type": "code",
   "execution_count": 10,
   "id": "c23107fb",
   "metadata": {},
   "outputs": [
    {
     "name": "stdout",
     "output_type": "stream",
     "text": [
      "Enter the integers: \n",
      "TRUE\n",
      "The number of prime number: 4\n"
     ]
    }
   ],
   "source": [
    "def isprime(n):\n",
    "    if n==1 or n==0:\n",
    "        return True\n",
    "    for i in range(2,n):\n",
    "        if n%i==0:\n",
    "            return False\n",
    "    return True\n",
    "a=int(input(\"Enter number of integers in the list: \"))\n",
    "num=[]\n",
    "print(\"Enter the integers: \")\n",
    "for j in range(a):\n",
    "    num.append(int(input()))\n",
    "\n",
    "count=sum(1 for i in num if isprime(i)) \n",
    "if count>0:\n",
    "    print(\"TRUE\")\n",
    "    print(f\"The number of prime number: {count}\")\n",
    "else:\n",
    "    print(\"FALSE\")    "
   ]
  },
  {
   "cell_type": "markdown",
   "id": "b05da938",
   "metadata": {},
   "source": [
    "#### Write a python program that removes duplicates from the given list and generate the new list without duplicates."
   ]
  },
  {
   "cell_type": "code",
   "execution_count": 18,
   "id": "bf9a0d21",
   "metadata": {},
   "outputs": [
    {
     "name": "stdout",
     "output_type": "stream",
     "text": [
      "The list after removing duplicates: [5, 4, 3, 2]\n"
     ]
    }
   ],
   "source": [
    "n=(input(\"Enter the number list separated by comma: \").split(\",\"))\n",
    "num=[]\n",
    "for i in n:\n",
    "    num.append(int(i))\n",
    "newlist=[]\n",
    "for i in num:\n",
    "    if i not in newlist:\n",
    "        newlist.append(i)    \n",
    "print(f\"The list after removing duplicates: {newlist}\")"
   ]
  },
  {
   "cell_type": "markdown",
   "id": "c1cfbeab",
   "metadata": {},
   "source": [
    "#### Write a python program to remove even numbers from the given list"
   ]
  },
  {
   "cell_type": "code",
   "execution_count": 2,
   "id": "48028949",
   "metadata": {},
   "outputs": [
    {
     "name": "stdout",
     "output_type": "stream",
     "text": [
      "the list after removing even numbers: [1, 3, 5, 7]\n"
     ]
    }
   ],
   "source": [
    "n=(input(\"Enter the number list separated by comma: \").split(\",\"))\n",
    "n=map(int,n)\n",
    "newlist=[]\n",
    "for i in n:\n",
    "    if i%2!=0:\n",
    "        newlist.append(i)\n",
    "print(f\"the list after removing even numbers: {newlist}\")        "
   ]
  },
  {
   "cell_type": "markdown",
   "id": "6c818a08",
   "metadata": {},
   "source": [
    "#### Consider the following list which contains the month with year  \n",
    "\n",
    "years = [\"January 2023\", “February 2024”, March 2023”, \"May 2025\", \"April 2023\", \"August 2024\", \"September 2025\", \"December 2023\"]\n",
    "\n",
    "If you have noticed, for some months, the year was wrongly mentioned instead of 2023. Write a Python program to change the month to 2023.\n"
   ]
  },
  {
   "cell_type": "code",
   "execution_count": 5,
   "id": "45b5b447",
   "metadata": {},
   "outputs": [
    {
     "name": "stdout",
     "output_type": "stream",
     "text": [
      "Updated Years: ['January 2023', 'February 2023', 'March 2023', 'May 2023', 'April 2023', 'August 2023', 'September 2023', 'December 2023']\n"
     ]
    }
   ],
   "source": [
    "years = [\"January 2023\",\"February 2024\",\"March 2023\",\"May 2025\",\"April 2023\",\"August 2024\",\"September 2025\",\"December 2023\"]\n",
    "updatedyears=[]\n",
    "for i in years:\n",
    "    updatedyears.append(i[:-4]+\"2023\")\n",
    "print(f\"Updated Years: {updatedyears}\")\n",
    "\n"
   ]
  }
 ],
 "metadata": {
  "kernelspec": {
   "display_name": "Python 3",
   "language": "python",
   "name": "python3"
  },
  "language_info": {
   "codemirror_mode": {
    "name": "ipython",
    "version": 3
   },
   "file_extension": ".py",
   "mimetype": "text/x-python",
   "name": "python",
   "nbconvert_exporter": "python",
   "pygments_lexer": "ipython3",
   "version": "3.12.6"
  },
  "vscode": {
   "interpreter": {
    "hash": "f397052cddba1051558e39462731b39890d6b598e6eaa64c7b2fe76130434c0e"
   }
  }
 },
 "nbformat": 4,
 "nbformat_minor": 5
}
