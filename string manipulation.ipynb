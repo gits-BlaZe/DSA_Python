{
 "cells": [
  {
   "attachments": {},
   "cell_type": "markdown",
   "metadata": {},
   "source": [
    "-------------------------------STRING MANIPULATION----------------------------------"
   ]
  },
  {
   "attachments": {},
   "cell_type": "markdown",
   "metadata": {},
   "source": [
    "Username Validator  You're developing a login system. A username must only contain alphabets and numbers, and should not exceed 12 characters.\n",
    "Write a function that checks whether a given username is valid or not. Return True if it's valid, otherwise False."
   ]
  },
  {
   "cell_type": "code",
   "execution_count": 12,
   "metadata": {},
   "outputs": [
    {
     "name": "stdout",
     "output_type": "stream",
     "text": [
      "True\n"
     ]
    }
   ],
   "source": [
    "def is_valid(name):\n",
    "    if name.isalnum() and len(name)<=12:\n",
    "        return True\n",
    "    return False\n",
    "user = input(\"Enter your username: \")\n",
    "print(is_valid(user))"
   ]
  },
  {
   "attachments": {},
   "cell_type": "markdown",
   "metadata": {},
   "source": [
    "Email Masking for Privacy . You need to mask part of an email address when displaying it publicly to protect user privacy.\n",
    "Write a program that takes an email like john.doe@example.com and returns a masked version like jo****@example.com."
   ]
  },
  {
   "cell_type": "code",
   "execution_count": 16,
   "metadata": {},
   "outputs": [
    {
     "name": "stdout",
     "output_type": "stream",
     "text": [
      "Original email: subibudh@yahoo.com\n",
      "Masked email: su******@yahoo.com\n"
     ]
    }
   ],
   "source": [
    "email=input(\"Enter your email id: \")\n",
    "at=email.index(\"@\")\n",
    "masked=email[:2]+\"*\"*len(email[2:at])+email[at:]\n",
    "print(f\"Original email: {email}\\nMasked email: {masked}\")"
   ]
  },
  {
   "attachments": {},
   "cell_type": "markdown",
   "metadata": {},
   "source": [
    "Detecting Palindromes  You are building a text analyzer app. One of the features is to detect if a word or phrase is a palindrome (ignoring spaces and punctuation).\n",
    "Write a function that checks whether a given string is a palindrome, ignoring case, spaces, and punctuation."
   ]
  },
  {
   "cell_type": "code",
   "execution_count": 21,
   "metadata": {},
   "outputs": [
    {
     "name": "stdout",
     "output_type": "stream",
     "text": [
      "True\n"
     ]
    }
   ],
   "source": [
    "def is_palindrome(text):\n",
    "    filtered_text = \"\"\n",
    "    for i in text:\n",
    "        if i.isalnum():\n",
    "            filtered_text+=i.lower()\n",
    "    if filtered_text==filtered_text[::-1]:\n",
    "        return True\n",
    "    return False        \n",
    "text=input(\"Enter the text or phrase: \")\n",
    "#example: \"A man a plan a canal Panama\"\n",
    "print(is_palindrome(text))\n"
   ]
  },
  {
   "attachments": {},
   "cell_type": "markdown",
   "metadata": {},
   "source": [
    "Text Formatter for News Headlines - You’re building a news app that receives article titles in random casing. You need to format the titles so each word starts with a capital letter.\n",
    "Write a function that converts a given string like \"breaKing news: python is fun\" to \"Breaking News: Python Is Fun\""
   ]
  },
  {
   "cell_type": "code",
   "execution_count": 30,
   "metadata": {},
   "outputs": [
    {
     "name": "stdout",
     "output_type": "stream",
     "text": [
      "\"Breaking News: Python Is Fun\" \n"
     ]
    }
   ],
   "source": [
    "def fix_title(title):\n",
    "    fixed_title = \"\"\n",
    "    for i in title:\n",
    "        if i[0].isalpha():\n",
    "            fixed_title+= i[0].upper() + i[1:].lower() + \" \"\n",
    "        if i[0]=='\"' or i[0]==\"'\" or i[0]==\"[\" or i[0]==\"(\" or i[0]==\"-\":\n",
    "            fixed_title+= i[0] + i[1].upper() + i[2:].lower() + \" \"\n",
    "    return fixed_title\n",
    "\n",
    "\n",
    "headline=input(\"Enter the headline: \").split()\n",
    "print(fix_title(headline))        \n"
   ]
  },
  {
   "attachments": {},
   "cell_type": "markdown",
   "metadata": {},
   "source": [
    "Word Frequency Counter  In a blog analysis tool, you need to find out how often each word appears in a paragraph."
   ]
  },
  {
   "cell_type": "code",
   "execution_count": 32,
   "metadata": {},
   "outputs": [
    {
     "name": "stdout",
     "output_type": "stream",
     "text": [
      "    Word Count:     \n",
      "Word\t\tFrequency\n",
      "and\t\t2\n",
      "the\t\t2\n",
      "cat\t\t2\n",
      "was\t\t2\n",
      "dog\t\t2\n",
      "feed\t\t1\n",
      "milk\t\t2\n"
     ]
    }
   ],
   "source": [
    "blog = input(\"Enter the Blog for word analysis: \").split()\n",
    "wordlist=[]\n",
    "for i in blog:\n",
    "    if i.lower() not in wordlist:\n",
    "        wordlist.append(i.lower())\n",
    "count = []\n",
    "for i in wordlist:\n",
    "    a=0\n",
    "    for j in blog:\n",
    "        if i==j.lower():\n",
    "            a+=1\n",
    "    count.append(a)\n",
    "print(\"Word Count:\".center(30))\n",
    "print(\"Word\\t\\tFrequency\")\n",
    "for i in range(len(wordlist)):\n",
    "    print(f\"{wordlist[i]}\\t\\t{count[i]}\")\n"
   ]
  },
  {
   "attachments": {},
   "cell_type": "markdown",
   "metadata": {},
   "source": [
    "Write a program that takes a block of text and prints"
   ]
  },
  {
   "cell_type": "code",
   "execution_count": null,
   "metadata": {},
   "outputs": [],
   "source": [
    "block=input(\"Enter the BLOCK of text: \")\n",
    "print(block)"
   ]
  }
 ],
 "metadata": {
  "kernelspec": {
   "display_name": "Python 3",
   "language": "python",
   "name": "python3"
  },
  "language_info": {
   "codemirror_mode": {
    "name": "ipython",
    "version": 3
   },
   "file_extension": ".py",
   "mimetype": "text/x-python",
   "name": "python",
   "nbconvert_exporter": "python",
   "pygments_lexer": "ipython3",
   "version": "3.12.6"
  },
  "orig_nbformat": 4,
  "vscode": {
   "interpreter": {
    "hash": "f397052cddba1051558e39462731b39890d6b598e6eaa64c7b2fe76130434c0e"
   }
  }
 },
 "nbformat": 4,
 "nbformat_minor": 2
}
