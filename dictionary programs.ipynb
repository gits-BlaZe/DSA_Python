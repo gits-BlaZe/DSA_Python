{
 "cells": [
  {
   "attachments": {},
   "cell_type": "markdown",
   "metadata": {},
   "source": [
    "Create a dictionary\n",
    "quantity = {\"Cosmetics\":30,\"Biscuits\":100,\"Utensils\":45}\n",
    "Sort the dictionary based on keys and values"
   ]
  },
  {
   "cell_type": "code",
   "execution_count": null,
   "metadata": {},
   "outputs": [],
   "source": [
    "quantity = {\"Cosmetics\": 30, \"Biscuits\": 100, \"Utensils\": 45}\n",
    "sorted_by_keys = dict(sorted(quantity.items()))\n",
    "\n",
    "print(\"Sorted by keys:\", sorted_by_keys)\n",
    "\n",
    "sorted_by_values = dict(sorted(quantity.items(), key=lambda x: x[1]))\n",
    "print(\"Sorted by values:\", sorted_by_values)"
   ]
  },
  {
   "attachments": {},
   "cell_type": "markdown",
   "metadata": {},
   "source": [
    "Create a dictionary of five countries and their capitals. Write a function that takes a\n",
    "country's name as input and returns its capital."
   ]
  },
  {
   "cell_type": "code",
   "execution_count": null,
   "metadata": {},
   "outputs": [],
   "source": [
    "countries = {\n",
    "    \"Japan\": \"Tokyo\",\n",
    "    \"Brazil\": \"Brasilia\",\n",
    "    \"Canada\": \"Ottawa\",\n",
    "    \"Australia\": \"Canberra\",\n",
    "    \"India\": \"New Delhi\"\n",
    "}\n",
    "\n",
    "def get_capital(country):\n",
    "    return countries.get(country, \"Country not found\")\n",
    "\n",
    "print(\"\\nCapital of Japan:\", get_capital(\"Japan\"))\n",
    "print(\"Capital of France:\", get_capital(\"France\"))"
   ]
  },
  {
   "attachments": {},
   "cell_type": "markdown",
   "metadata": {},
   "source": [
    "Make a dictionary of student names and their scores. Write a function to find the student\n",
    "with the highest score."
   ]
  },
  {
   "cell_type": "code",
   "execution_count": null,
   "metadata": {},
   "outputs": [],
   "source": [
    "students = {\n",
    "    \"Alice\": 85,\n",
    "    \"Bob\": 92,\n",
    "    \"Charlie\": 78,\n",
    "    \"David\": 95,\n",
    "    \"Eve\": 88\n",
    "}\n",
    "\n",
    "def highest_scorer():\n",
    "    return max(students.items(), key=lambda x: x[1])\n",
    "\n",
    "top_student, top_score = highest_scorer()\n",
    "print(\"\\nHighest scorer:\", top_student, \"with\", top_score, \"points\")\n"
   ]
  },
  {
   "attachments": {},
   "cell_type": "markdown",
   "metadata": {},
   "source": [
    "Create a nested dictionary of three employees, each with keys for name, age, and salary.\n",
    "Write a function to give each employee a 10% raise and print the updated dictionary."
   ]
  },
  {
   "cell_type": "code",
   "execution_count": null,
   "metadata": {},
   "outputs": [],
   "source": [
    "employees = {\n",
    "    \"emp1\": {\"name\": \"John\", \"age\": 30, \"salary\": 50000},\n",
    "    \"emp2\": {\"name\": \"Sarah\", \"age\": 25, \"salary\": 45000},\n",
    "    \"emp3\": {\"name\": \"Mike\", \"age\": 35, \"salary\": 60000}\n",
    "}\n",
    "\n",
    "def give_raise():\n",
    "    for emp in employees.values():\n",
    "        emp[\"salary\"] = emp[\"salary\"] * 1.1\n",
    "    return employees\n",
    "\n",
    "print(\"\\nEmployees after 10% raise:\", give_raise())\n"
   ]
  },
  {
   "attachments": {},
   "cell_type": "markdown",
   "metadata": {},
   "source": [
    "Create a dictionary to store item names and their quantities. Write a function to add stock\n",
    "to existing items and display the updated inventory."
   ]
  },
  {
   "cell_type": "code",
   "execution_count": null,
   "metadata": {},
   "outputs": [],
   "source": [
    "inventory = {\n",
    "    \"Apples\": 50,\n",
    "    \"Bananas\": 30,\n",
    "    \"Oranges\": 40\n",
    "}\n",
    "\n",
    "def add_stock(item, quantity):\n",
    "    if item in inventory:\n",
    "        inventory[item] += quantity\n",
    "    else:\n",
    "        inventory[item] = quantity\n",
    "    return inventory\n",
    "\n",
    "print(\"\\nInventory after adding 20 Apples:\", add_stock(\"Apples\", 20))\n",
    "print(\"Inventory after adding 10 Pears:\", add_stock(\"Pears\", 10))"
   ]
  },
  {
   "attachments": {},
   "cell_type": "markdown",
   "metadata": {},
   "source": [
    "Write a program that counts the frequency of each word in a given sentence using a\n",
    "dictionary."
   ]
  },
  {
   "cell_type": "code",
   "execution_count": null,
   "metadata": {},
   "outputs": [],
   "source": [
    "def word_frequency(sentence):\n",
    "    words = sentence.lower().split()\n",
    "    freq = {}\n",
    "    for word in words:\n",
    "        freq[word] = freq.get(word, 0) + 1\n",
    "    return freq\n",
    "\n",
    "sentence = \"The quick brown fox jumps over the lazy dog\"\n",
    "print(\"Word frequency:\", word_frequency(sentence))"
   ]
  },
  {
   "attachments": {},
   "cell_type": "markdown",
   "metadata": {},
   "source": [
    "Create a dictionary where keys are student names and values are lists of scores. Write a\n",
    "function to compute the average score of a given student and display the name of the\n",
    "student who ranks first based on the average marks."
   ]
  },
  {
   "cell_type": "code",
   "execution_count": null,
   "metadata": {},
   "outputs": [],
   "source": [
    "students = {\n",
    "    \"Alice\": [85, 90, 88],\n",
    "    \"Bob\": [78, 85, 80],\n",
    "    \"Charlie\": [92, 95, 90],\n",
    "    \"David\": [88, 85, 87]\n",
    "}\n",
    "\n",
    "def student_average(student):\n",
    "    return sum(students.get(student, [])) / len(students.get(student, [1]))\n",
    "\n",
    "def top_student():\n",
    "    return max(students.items(), key=lambda x: sum(x[1])/len(x[1]))\n",
    "\n",
    "top_name, top_scores = top_student()\n",
    "print(\"\\nTop student:\", top_name, \"with average:\", sum(top_scores)/len(top_scores))\n",
    "print(\"Alice's average:\", student_average(\"Alice\"))\n"
   ]
  },
  {
   "attachments": {},
   "cell_type": "markdown",
   "metadata": {},
   "source": [
    "Create a dictionary with book titles as keys and prices as values. Write a program to look\n",
    "up the price of a book entered by the user."
   ]
  },
  {
   "cell_type": "code",
   "execution_count": null,
   "metadata": {},
   "outputs": [],
   "source": [
    "books = {\n",
    "    \"Python Programming\": 45.99,\n",
    "    \"Data Science Handbook\": 59.99,\n",
    "    \"Machine Learning Basics\": 39.99,\n",
    "    \"Web Development\": 49.99\n",
    "}\n",
    "\n",
    "def book_price(title):\n",
    "    return books.get(title, \"Book not found\")\n",
    "\n",
    "book_title = input(\"\\nEnter book title: \")\n",
    "print(\"Price:\", book_price(book_title))\n"
   ]
  },
  {
   "attachments": {},
   "cell_type": "markdown",
   "metadata": {},
   "source": [
    "Write a program to calculate the frequency of each character in a string using a\n",
    "dictionary."
   ]
  },
  {
   "cell_type": "code",
   "execution_count": null,
   "metadata": {},
   "outputs": [],
   "source": [
    "def char_frequency(text):\n",
    "    freq = {}\n",
    "    for char in text:\n",
    "        freq[char] = freq.get(char, 0) + 1\n",
    "    return freq\n",
    "\n",
    "text = \"Hello, World!\"\n",
    "print(\"\\nCharacter frequency:\", char_frequency(text))\n",
    "\n"
   ]
  },
  {
   "attachments": {},
   "cell_type": "markdown",
   "metadata": {},
   "source": [
    "Given two lists, one of keys and one of values, write a program to convert them into a\n",
    "dictionary using the zip() function."
   ]
  },
  {
   "cell_type": "code",
   "execution_count": null,
   "metadata": {},
   "outputs": [],
   "source": [
    "keys = [\"name\", \"age\", \"city\"]\n",
    "values = [\"John\", 25, \"New York\"]\n",
    "dictionary = dict(zip(keys, values))\n",
    "print(\"\\nZipped dictionary:\", dictionary)"
   ]
  },
  {
   "attachments": {},
   "cell_type": "markdown",
   "metadata": {},
   "source": [
    "Create a dictionary with employee IDs and their salaries. Write a function to increase\n",
    "each employee's salary by a given percentage and display the updated dictionary."
   ]
  },
  {
   "cell_type": "code",
   "execution_count": null,
   "metadata": {},
   "outputs": [],
   "source": [
    "employees = {\n",
    "    \"E001\": 50000,\n",
    "    \"E002\": 45000,\n",
    "    \"E003\": 60000\n",
    "}\n",
    "\n",
    "def salary_increase(percentage):\n",
    "    for emp_id in employees:\n",
    "        employees[emp_id] *= (1 + percentage/100)\n",
    "    return employees\n",
    "\n",
    "print(\"\\nSalaries after 15% increase:\", salary_increase(15))\n"
   ]
  },
  {
   "attachments": {},
   "cell_type": "markdown",
   "metadata": {},
   "source": [
    "Create a product catalog using a dictionary with item names and prices. Allow the user to\n",
    "add items to a cart and calculate the total bill."
   ]
  },
  {
   "cell_type": "code",
   "execution_count": null,
   "metadata": {},
   "outputs": [],
   "source": [
    "catalog = {\n",
    "    \"Laptop\": 999.99,\n",
    "    \"Phone\": 599.99,\n",
    "    \"Headphones\": 99.99,\n",
    "    \"Mouse\": 29.99\n",
    "}\n",
    "\n",
    "cart = {}\n",
    "\n",
    "def add_to_cart(item, quantity):\n",
    "    if item in catalog:\n",
    "        cart[item] = cart.get(item, 0) + quantity\n",
    "    return cart\n",
    "\n",
    "def total_bill():\n",
    "    return sum(catalog[item] * qty for item, qty in cart.items())\n",
    "\n",
    "add_to_cart(\"Laptop\", 1)\n",
    "add_to_cart(\"Mouse\", 2)\n",
    "print(\"\\nCart:\", cart)\n",
    "print(\"Total bill: $\", total_bill())\n"
   ]
  },
  {
   "attachments": {},
   "cell_type": "markdown",
   "metadata": {},
   "source": [
    "Create a simple quiz with a dictionary where questions are keys and correct answers are\n",
    "values. Ask users questions and give a score at the end."
   ]
  },
  {
   "cell_type": "code",
   "execution_count": null,
   "metadata": {},
   "outputs": [],
   "source": [
    "quiz = {\n",
    "    \"What is the capital of France?\": \"Paris\",\n",
    "    \"Which planet is known as the Red Planet?\": \"Mars\",\n",
    "    \"What is 2 + 2?\": \"4\",\n",
    "    \"What is the largest ocean?\": \"Pacific\"\n",
    "}\n",
    "\n",
    "def run_quiz():\n",
    "    score = 0\n",
    "    for question, correct_answer in quiz.items():\n",
    "        answer = input(question + \" \")\n",
    "        if answer.lower() == correct_answer.lower():\n",
    "            score += 1\n",
    "    return score\n",
    "\n",
    "print(\"\\nQuiz score:\", run_quiz(), \"out of\", len(quiz))"
   ]
  }
 ],
 "metadata": {
  "kernelspec": {
   "display_name": "Python 3",
   "language": "python",
   "name": "python3"
  },
  "language_info": {
   "name": "python",
   "version": "3.12.6"
  },
  "orig_nbformat": 4,
  "vscode": {
   "interpreter": {
    "hash": "f397052cddba1051558e39462731b39890d6b598e6eaa64c7b2fe76130434c0e"
   }
  }
 },
 "nbformat": 4,
 "nbformat_minor": 2
}
