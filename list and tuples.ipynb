{
 "cells": [
  {
   "attachments": {},
   "cell_type": "markdown",
   "metadata": {},
   "source": [
    "--------------------------LISTS AND TUPLES------------------------------"
   ]
  },
  {
   "attachments": {},
   "cell_type": "markdown",
   "metadata": {},
   "source": [
    "Write a program to create a list and perform the following operations: append, insert, delete, and update an element."
   ]
  },
  {
   "cell_type": "code",
   "execution_count": 12,
   "metadata": {},
   "outputs": [
    {
     "name": "stdout",
     "output_type": "stream",
     "text": [
      "element cat has been updated successfully\n",
      "New list: ['you', 'have', 'a', 'nice', 'dog']\n"
     ]
    }
   ],
   "source": [
    "\n",
    "lst = [\"you\",\"have\",\"a\",\"nice\",\"cat\"]\n",
    "choice=int(input(\"\"\"Enter your choice of operation: \n",
    "1. Append\n",
    "2. Insert\n",
    "3. Delete\n",
    "4. Update \\n\"\"\"))\n",
    "\n",
    "match choice:\n",
    "    case 1:\n",
    "        a=input(\"Enter the element to append: \")\n",
    "        lst.append(a)\n",
    "        print(f\"The element {a} has been appended successfully\")\n",
    "        print(f\"New list: {lst}\")\n",
    "    \n",
    "    case 2:\n",
    "        a=input(\"Enter the element to insert: \")\n",
    "        b=int(input(f\"Enter the position to insert the element {a}: \"))\n",
    "        lst.insert(b-1,a)\n",
    "        print(f\"The element {a} has been inserted to position {b} successfully\")\n",
    "        print(f\"New list: {lst}\")\n",
    "\n",
    "    case 3:\n",
    "        a=input(\"Enter the element to delete: \")\n",
    "        lst.remove(a)\n",
    "        print(f\"The element {a} has been deleted successfully\")\n",
    "        print(f\"New list: {lst}\")\n",
    "\n",
    "    case 4:\n",
    "        a=input(\"Enter the element to update: \")\n",
    "        b=input(\"Enter the new element: \")\n",
    "        index=lst.index(a)\n",
    "        lst.remove(a)\n",
    "        lst.insert(index,b)\n",
    "        print(f\"element {a} has been updated successfully\")\n",
    "        print(f\"New list: {lst}\")\n",
    "\n",
    "    case _:\n",
    "        print(\"Please enter a valid choice number\")"
   ]
  },
  {
   "attachments": {},
   "cell_type": "markdown",
   "metadata": {},
   "source": [
    "Write a program to create a list of integers and print the largest, smallest, and average of the list elements."
   ]
  },
  {
   "cell_type": "code",
   "execution_count": 9,
   "metadata": {},
   "outputs": [
    {
     "name": "stdout",
     "output_type": "stream",
     "text": [
      "The list of integers is:  [4, 5, 6, 7, 8]\n",
      "Largest: 8 \t Smallest: 4 \t Average: 6.00\n"
     ]
    }
   ],
   "source": [
    "\n",
    "list1=list((map(int,input(\"Enter the integers to create a list separated by space: \").split())))\n",
    "list1.sort()\n",
    "n=len(list1)\n",
    "print(\"The list of integers is: \",list1)\n",
    "print(f\"Largest: {list1[n-1]} \\t Smallest: {list1[0]} \\t Average: {(sum(list1))/n:.2f}\")\n",
    "\n"
   ]
  },
  {
   "attachments": {},
   "cell_type": "markdown",
   "metadata": {},
   "source": [
    "Write a program to generate a list of squares of the first 10 natural numbers using list comprehension."
   ]
  },
  {
   "cell_type": "code",
   "execution_count": 10,
   "metadata": {},
   "outputs": [
    {
     "name": "stdout",
     "output_type": "stream",
     "text": [
      "[1, 4, 9, 16, 25, 36, 49, 64, 81, 100]\n"
     ]
    }
   ],
   "source": [
    "lst = [i**2 for i in range(1,11)]\n",
    "print(lst)"
   ]
  },
  {
   "attachments": {},
   "cell_type": "markdown",
   "metadata": {},
   "source": [
    "Write a program to create a list of student names and sort them in ascending and descending order."
   ]
  },
  {
   "cell_type": "code",
   "execution_count": 12,
   "metadata": {},
   "outputs": [
    {
     "name": "stdout",
     "output_type": "stream",
     "text": [
      "List of Names: ['ram', 'shayam', 'hari'] \n",
      "Ascending: ['hari', 'ram', 'shayam'] \n",
      "Descending: ['shayam', 'ram', 'hari']\n"
     ]
    }
   ],
   "source": [
    "lst=input(\"Enter the student names: \").split()\n",
    "asc=sorted(lst)\n",
    "des=sorted(lst,reverse=True)\n",
    "print(f\"List of Names: {lst} \\nAscending: {asc} \\nDescending: {des}\")"
   ]
  },
  {
   "attachments": {},
   "cell_type": "markdown",
   "metadata": {},
   "source": [
    "Write a program to perform linear search and binary search on a list of numbers"
   ]
  },
  {
   "cell_type": "code",
   "execution_count": 22,
   "metadata": {},
   "outputs": [
    {
     "name": "stdout",
     "output_type": "stream",
     "text": [
      "The number 6 found at position 6 using Binary search\n",
      "The number 6 found at position 6 using linear search\n"
     ]
    }
   ],
   "source": [
    "def linear(lst,n):\n",
    "    for index,i in enumerate(lst):\n",
    "        if n == i:\n",
    "            print(f\"The number {n} found at position {index+1} using linear search\")\n",
    "            return\n",
    "        \n",
    "    print(f\"The number {n} is not in the list\")\n",
    "\n",
    "def binary(lst,n):\n",
    "    low=0\n",
    "    high=len(lst)-1\n",
    "    while low<=high:\n",
    "        mid=(low+high)//2\n",
    "        if  lst[mid] == n:\n",
    "            print(f\"The number {n} found at position {mid+1} using Binary search\")\n",
    "            return\n",
    "\n",
    "        elif lst[mid] > n:\n",
    "            high = mid-1\n",
    "        else:\n",
    "            low = mid+1\n",
    "    print(f\"The number {n} is not in the list\")\n",
    "\n",
    "lst=list(map(int,input(\"Enter the numbers: \").split()))\n",
    "num=int(input(\"Enter the number to search for: \"))\n",
    "lst.sort()\n",
    "binary(lst,num)\n",
    "linear(lst,num)"
   ]
  },
  {
   "attachments": {},
   "cell_type": "markdown",
   "metadata": {},
   "source": [
    "Given a list of numbers, create a new list containing the squares of only the odd numbers from the original list. (Use List comprehension)\t"
   ]
  },
  {
   "cell_type": "code",
   "execution_count": 23,
   "metadata": {},
   "outputs": [
    {
     "name": "stdout",
     "output_type": "stream",
     "text": [
      "[9, 25, 49]\n"
     ]
    }
   ],
   "source": [
    "lst = list(map(int,input(\"Enter the numbers\").split()))\n",
    "sqr = [i**2 for i in lst if i%2!=0]\n",
    "print(sqr)"
   ]
  },
  {
   "attachments": {},
   "cell_type": "markdown",
   "metadata": {},
   "source": [
    "Write a program to swap two values using tuple unpacking."
   ]
  },
  {
   "cell_type": "code",
   "execution_count": 29,
   "metadata": {},
   "outputs": [
    {
     "name": "stdout",
     "output_type": "stream",
     "text": [
      "Before swapping: (2, 3)\n",
      "After swapping: (3, 2)\n"
     ]
    }
   ],
   "source": [
    "tup = tuple(map(int,input(\"Enter the two values for swapping: \").split()))\n",
    "a,b = tup\n",
    "temp = a\n",
    "a = b \n",
    "b = temp\n",
    "tup2 = tuple([a,b])\n",
    "print(f\"Before swapping: {tup}\\nAfter swapping: {tup2}\")"
   ]
  },
  {
   "attachments": {},
   "cell_type": "markdown",
   "metadata": {},
   "source": [
    "Write a program to create a list of tuples containing student names and their marks, and print the names of students who scored more than 90."
   ]
  },
  {
   "cell_type": "code",
   "execution_count": 34,
   "metadata": {},
   "outputs": [
    {
     "name": "stdout",
     "output_type": "stream",
     "text": [
      "[('subi', 12), ('rev', 99), ('abhi', 98)]\n",
      "Names of students who scored more than 90: \n",
      "rev  abhi  "
     ]
    }
   ],
   "source": [
    "lst=[]\n",
    "while True:\n",
    "    name=input(\"Enter the student name or exit to quit: \")\n",
    "    if name.lower()==\"exit\":\n",
    "        break\n",
    "    mark=int(input(f\"Enter the mark of {name}: \"))\n",
    "    tup=tuple([name,mark])\n",
    "    lst.append(tup)\n",
    "print(lst)\n",
    "print(\"Names of students who scored more than 90: \")\n",
    "for i in lst:\n",
    "    if i[1] > 90:\n",
    "        print(i[0],end=\"  \")\n"
   ]
  },
  {
   "attachments": {},
   "cell_type": "markdown",
   "metadata": {},
   "source": [
    "A sensor returns a list of readings. Negative readings are invalid and should be replaced by zero and Use list comprehension to replace all negative numbers in a list with 0."
   ]
  },
  {
   "cell_type": "code",
   "execution_count": 39,
   "metadata": {},
   "outputs": [
    {
     "name": "stdout",
     "output_type": "stream",
     "text": [
      "Original reading: [3, 4, 5, 6, -2, 3, 4]\n",
      "Valid Reading: [3, 4, 5, 6, 0, 3, 4]\n"
     ]
    }
   ],
   "source": [
    "lst=list(map(int,input(\"Enter the readings: \").split()))\n",
    "lst2 = [0 if (i < 0) else i for i in lst]\n",
    "print(f\"Original reading: {lst}\\nValid Reading: {lst2}\")"
   ]
  },
  {
   "attachments": {},
   "cell_type": "markdown",
   "metadata": {},
   "source": [
    "Create a system to process customer orders. Each order can contain multiple items (represented as strings). The system should allow adding items to an order, removing items, displaying the current order, and calculating the total number of items in the order. You could extend this by associating quantities with each item (e.g., a list of tuples: [(\"Laptop\", 1), (\"Mouse\", 2)])."
   ]
  },
  {
   "cell_type": "code",
   "execution_count": 21,
   "metadata": {},
   "outputs": [
    {
     "name": "stdout",
     "output_type": "stream",
     "text": [
      "The current number of items in the list is: 2\n",
      "The total quantity of all the items is: 3\n"
     ]
    }
   ],
   "source": [
    "lst=[(\"Laptop\",1), (\"Mouse\",2)]\n",
    "choice = int(input(\"\"\"Please enter your choice number: \n",
    "1. Add item\n",
    "2. Remove item\n",
    "3. Display order\n",
    "4. Calculate total number of items\\n\"\"\"))\n",
    "match choice:\n",
    "    case 1:    \n",
    "        while True:\n",
    "            item=input(\"Enter the item name and quantity to add or 'exit' to exit: \").split()\n",
    "            if item[0].lower()==\"exit\":\n",
    "                break\n",
    "            tup=tuple([item[0],int(item[1])])\n",
    "            lst.append(tup)\n",
    "            print(f\"The updated order is: {lst}\")\n",
    "\n",
    "    case 2:\n",
    "        while True:\n",
    "            item=input(\"Enter the item name to remove or 'exit' to exit: \")\n",
    "            if item.lower()==\"exit\":\n",
    "                break\n",
    "            for i in lst:\n",
    "                if i[0].lower() == item.lower():\n",
    "                    lst.remove(i)\n",
    "                    print(f\"The updated order is: {lst}\")\n",
    "                else:\n",
    "                    print(\"Item not found in the list\")\n",
    "\n",
    "    case 3: \n",
    "        print(f\"The current order list is : {lst}\")\n",
    "\n",
    "    case 4:\n",
    "        print(f\"The current number of items in the list is: {len(lst)}\")\n",
    "        qnt=[]\n",
    "        for i in lst:\n",
    "            qnt.append(i[1])\n",
    "        total_qnt=sum(qnt)\n",
    "        print(f\"The total quantity of all the items is: {total_qnt}\")\n",
    "\n"
   ]
  },
  {
   "attachments": {},
   "cell_type": "markdown",
   "metadata": {},
   "source": [
    "Given a list of numbers and a target sum, find all unique pairs of numbers in the list that add up to the target sum."
   ]
  },
  {
   "cell_type": "code",
   "execution_count": 26,
   "metadata": {},
   "outputs": [
    {
     "name": "stdout",
     "output_type": "stream",
     "text": [
      "The pair of numbers that add up to the sum are: [(1, 7), (2, 6), (3, 5), (4, 4)]\n"
     ]
    }
   ],
   "source": [
    "lst = list(map(int,input(\"Enter the numbers for the list: \").split()))\n",
    "sum = int(input(\"Enter the target sum for the numbers: \"))\n",
    "pairs = []\n",
    "for i in lst:\n",
    "    for j in lst:\n",
    "        if i+j==sum and (i,j) not in pairs and (j,i) not in pairs:\n",
    "            tup=tuple([i,j])\n",
    "            pairs.append(tup)\n",
    "print(\"The pair of numbers that add up to the sum are:\",pairs)"
   ]
  },
  {
   "attachments": {},
   "cell_type": "markdown",
   "metadata": {},
   "source": [
    "Implement a function that performs Run-Length Encoding on a list of characters. RLE compresses data by replacing consecutive identical characters with the character and its count. For example, [\"a\", \"a\", \"a\", \"b\", \"b\", \"c\"] would be encoded as [(\"a\", 3), (\"b\", 2), (\"c\", 1)]. "
   ]
  },
  {
   "cell_type": "code",
   "execution_count": 27,
   "metadata": {},
   "outputs": [
    {
     "name": "stdout",
     "output_type": "stream",
     "text": [
      "[('a', 3), ('b', 2), ('c', 1), ('d', 1), ('e', 3)]\n"
     ]
    }
   ],
   "source": [
    "def RLE(chars):\n",
    "    unique_lst=[]\n",
    "    encoded=[]\n",
    "    for i in chars:\n",
    "        if i not in unique_lst:\n",
    "            unique_lst.append(i)\n",
    "    for i in unique_lst:\n",
    "        count=0\n",
    "        for j in chars:\n",
    "            if i==j:\n",
    "                count+=1\n",
    "        encoded.append(tuple([i,count]))\n",
    "    return encoded\n",
    "\n",
    "lst=input(\"Enter the list of characters: \").split()\n",
    "print(RLE(lst))\n"
   ]
  },
  {
   "attachments": {},
   "cell_type": "markdown",
   "metadata": {},
   "source": [
    "Scenario:\n",
    "Given a matrix and need to transpose it and  Use nested list comprehension to transpose a matrix.\n",
    "Input:\n",
    "matrix = [\n",
    " [1, 2, 3],\n",
    " [4, 5, 6]\t\n",
    "]\n",
    "Output:\n",
    "[\n",
    "[1, 4],\n",
    "[2, 5],\n",
    "[3, 6]\n",
    "]\n"
   ]
  },
  {
   "cell_type": "code",
   "execution_count": 43,
   "metadata": {},
   "outputs": [
    {
     "name": "stdout",
     "output_type": "stream",
     "text": [
      "Input matrix:  [[1, 2, 3], [4, 5, 6]]\n",
      "Output matrix:  [[1, 4], [2, 5], [3, 6]]\n"
     ]
    }
   ],
   "source": [
    "r=int(input(\"Enter the number of rows in matrix\"))\n",
    "mat=[]\n",
    "for i in range(r):\n",
    "    row=map(int,input(f\"Enter the elements for row {i+1} separated by space: \").split())\n",
    "    mat.append(list(row))\n",
    "Tmat=[[j[i] for j in mat] for i in range(len(mat[0]))]\n",
    "print(\"Input matrix: \",mat)\n",
    "print(\"Output matrix: \",Tmat)\n",
    "        "
   ]
  },
  {
   "attachments": {},
   "cell_type": "markdown",
   "metadata": {},
   "source": [
    "Given a list of strings, extract digits from each string and store them in a new list.\n",
    "Input: [\"abc123\", \"hello99\"] → Output: [\"123\", \"99\"]"
   ]
  },
  {
   "cell_type": "code",
   "execution_count": 28,
   "metadata": {},
   "outputs": [
    {
     "name": "stdout",
     "output_type": "stream",
     "text": [
      "The original list:  ['abc123', 'hello99']\n",
      "Number extracted list:  ['123', '99']\n"
     ]
    }
   ],
   "source": [
    "lst = input(\"Enter the list of strings: \").split()\n",
    "num = []\n",
    "for i in lst:\n",
    "    str = \"\"\n",
    "    for j in i:\n",
    "        if j.isdigit():\n",
    "            str+=j\n",
    "    num.append(str)\n",
    "print(\"The original list: \",lst)\n",
    "print(\"Number extracted list: \",num)"
   ]
  }
 ],
 "metadata": {
  "kernelspec": {
   "display_name": "Python 3",
   "language": "python",
   "name": "python3"
  },
  "language_info": {
   "codemirror_mode": {
    "name": "ipython",
    "version": 3
   },
   "file_extension": ".py",
   "mimetype": "text/x-python",
   "name": "python",
   "nbconvert_exporter": "python",
   "pygments_lexer": "ipython3",
   "version": "3.12.6"
  },
  "orig_nbformat": 4,
  "vscode": {
   "interpreter": {
    "hash": "f397052cddba1051558e39462731b39890d6b598e6eaa64c7b2fe76130434c0e"
   }
  }
 },
 "nbformat": 4,
 "nbformat_minor": 2
}
